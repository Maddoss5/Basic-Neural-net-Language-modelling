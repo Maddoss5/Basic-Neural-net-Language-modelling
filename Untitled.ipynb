{
 "cells": [
  {
   "cell_type": "code",
   "execution_count": 1,
   "id": "57258151-5fe2-47dd-83f4-52865940c8a8",
   "metadata": {},
   "outputs": [],
   "source": [
    "import torch\n",
    "import torch.nn as nn\n",
    "import torch.optim as optim\n",
    "import numpy as np\n",
    "from torch.utils.data import Dataset, DataLoader\n",
    "from transformers import AutoTokenizer"
   ]
  },
  {
   "cell_type": "code",
   "execution_count": 2,
   "id": "d2d9c7e5-09ad-494e-a836-79a2a843d79d",
   "metadata": {},
   "outputs": [],
   "source": [
    "text= \"hello world this is retard number 1 . hello cunt you are a retard. hello stupid fuck you should kill yoruself . hello idiot you are so dumb no one wants to hire you . maybe you should stop being so dumb. You were born to kill yourself . You have nothing good going for you why are you still alive. Nobody likes you , you have no friends , no girl friends , you hate your job. why are you still alive . There is no point in you existing. So what are you gonna do? What are you gonna do about it ? This country hates you , people look at you with contempt , they want you gone . Why are you still here pajeet. I know this place is hell for me . I know no one likes me and most people hate me, I wished people were nice to me , i wish people would wouldnt look at me like i am a criminal. Its not my fault i was born brown. I have wanted to give up long ago , i wanted to go home ever since i came here. But i am no quitter. People who hate me for no reason i hope they dont have to face this upon themselves because that will make them realize how hard it is to be me\""
   ]
  },
  {
   "cell_type": "code",
   "execution_count": 3,
   "id": "55f77dcb-35db-4e52-8d47-e366fb3a50ec",
   "metadata": {},
   "outputs": [],
   "source": [
    "tokenizer = AutoTokenizer.from_pretrained(\"bert-base-uncased\")\n",
    "tokens = tokenizer.tokenize(text)\n",
    "input_ids = tokenizer.convert_tokens_to_ids(tokens)\n",
    "vocab_size = tokenizer.vocab_size\n"
   ]
  },
  {
   "cell_type": "code",
   "execution_count": 4,
   "id": "851da695-6750-4662-ba85-e5132df10863",
   "metadata": {},
   "outputs": [],
   "source": [
    "seq_length = 6\n",
    "data = []\n",
    "for i in range(len(input_ids) - seq_length):\n",
    "    input_seq = input_ids[i:i + seq_length]\n",
    "    target = input_ids[i + seq_length]\n",
    "    data.append((torch.tensor(input_seq), target))\n",
    "\n",
    "dataloader = DataLoader(data, batch_size=2, shuffle=False)"
   ]
  },
  {
   "cell_type": "code",
   "execution_count": 5,
   "id": "8353f3cc-6fca-4ad2-b157-0254c2ed2807",
   "metadata": {},
   "outputs": [],
   "source": [
    "class RNNModel(nn.Module):\n",
    "    def __init__(self, vocab_size, embed_size, hidden_size):\n",
    "        super(RNNModel, self).__init__()\n",
    "        self.embed = nn.Embedding(vocab_size, embed_size)\n",
    "        self.rnn = nn.RNN(embed_size, hidden_size, batch_first=True)\n",
    "        self.fc = nn.Linear(hidden_size, vocab_size)\n",
    "\n",
    "    def forward(self, x, hidden):\n",
    "        x = self.embed(x)\n",
    "        out, hidden = self.rnn(x, hidden)\n",
    "        out = self.fc(out[:, -1, :])\n",
    "        return out, hidden"
   ]
  },
  {
   "cell_type": "code",
   "execution_count": 6,
   "id": "476edbb6-f1cb-452a-9507-b618f1dc1640",
   "metadata": {},
   "outputs": [],
   "source": [
    "embed_size = 10\n",
    "hidden_size = 20\n",
    "model = RNNModel(vocab_size, embed_size, hidden_size)\n",
    "criterion = nn.CrossEntropyLoss()\n",
    "optimizer = optim.Adam(model.parameters(), lr=0.01)"
   ]
  },
  {
   "cell_type": "code",
   "execution_count": 7,
   "id": "5cf742ee-1a8e-40b5-8a99-2e352d3022a2",
   "metadata": {},
   "outputs": [
    {
     "name": "stdout",
     "output_type": "stream",
     "text": [
      "Epoch 0, Loss: 8.2623\n",
      "Epoch 20, Loss: 0.1100\n",
      "Epoch 40, Loss: 0.0197\n",
      "Epoch 60, Loss: 0.0290\n",
      "Epoch 80, Loss: 0.3250\n"
     ]
    }
   ],
   "source": [
    "epochs = 100\n",
    "for epoch in range(epochs):\n",
    "    for inputs, target in dataloader:\n",
    "        batch_size = inputs.size(0)  # Get batch size dynamically\n",
    "        hidden = torch.zeros(1, batch_size, hidden_size)  # Adjust hidden state\n",
    "\n",
    "        optimizer.zero_grad()\n",
    "        output, hidden = model(inputs, hidden.detach())\n",
    "        loss = criterion(output, target)\n",
    "        loss.backward()\n",
    "        optimizer.step()\n",
    "\n",
    "    if epoch % 20 == 0:\n",
    "        print(f'Epoch {epoch}, Loss: {loss.item():.4f}')"
   ]
  },
  {
   "cell_type": "code",
   "execution_count": 9,
   "id": "e8f07e84-48c8-4e76-8c8c-324aaf513de3",
   "metadata": {},
   "outputs": [
    {
     "name": "stdout",
     "output_type": "stream",
     "text": [
      "hello stupid fuck you have to face this upon themselves because that will make them realize how hard it is to be me for no reason i hope they dont have to face this upon themselves because that will make them realize how hard it is to be me for no reason i hope they dont have to face this upon themselves because that will make them realize how\n"
     ]
    }
   ],
   "source": [
    "def generate_text(model, start_text, next_words=70):\n",
    "    model.eval()\n",
    "    tokens = tokenizer.tokenize(start_text)\n",
    "    input_ids = tokenizer.convert_tokens_to_ids(tokens)\n",
    "    hidden = torch.zeros(1, 1, hidden_size)\n",
    "    for _ in range(next_words):\n",
    "        input_seq = torch.tensor(input_ids[-seq_length:], dtype=torch.long).unsqueeze(0)  # Ensure shape (1, seq_length)\n",
    "        with torch.no_grad():\n",
    "            output, hidden = model(input_seq, hidden)\n",
    "        next_token_id = output.argmax().item()\n",
    "        input_ids.append(next_token_id)\n",
    "    return tokenizer.decode(input_ids)\n",
    "\n",
    "# Predict next 30 words\n",
    "print(generate_text(model, \"hello \"))"
   ]
  },
  {
   "cell_type": "code",
   "execution_count": null,
   "id": "acdfa430-1fc9-445c-8de5-81120530deab",
   "metadata": {},
   "outputs": [],
   "source": []
  }
 ],
 "metadata": {
  "kernelspec": {
   "display_name": "Python 3 (ipykernel)",
   "language": "python",
   "name": "python3"
  },
  "language_info": {
   "codemirror_mode": {
    "name": "ipython",
    "version": 3
   },
   "file_extension": ".py",
   "mimetype": "text/x-python",
   "name": "python",
   "nbconvert_exporter": "python",
   "pygments_lexer": "ipython3",
   "version": "3.11.7"
  }
 },
 "nbformat": 4,
 "nbformat_minor": 5
}
