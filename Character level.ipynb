{
 "cells": [
  {
   "cell_type": "code",
   "execution_count": 1,
   "id": "b148bdb9-7005-49d7-931d-54910c69dda9",
   "metadata": {},
   "outputs": [],
   "source": [
    "import torch\n",
    "import torchvision\n",
    "import torch.nn as nn\n",
    "import torch.optim as optim"
   ]
  },
  {
   "cell_type": "code",
   "execution_count": 2,
   "id": "812efafe-a768-457e-827e-6c37d050bf9c",
   "metadata": {},
   "outputs": [],
   "source": [
    "file=\"incel.txt\"\n"
   ]
  },
  {
   "cell_type": "code",
   "execution_count": 3,
   "id": "e5ce501e-080b-4136-9c1d-286d83b176f1",
   "metadata": {},
   "outputs": [],
   "source": [
    "f=open(file,'r',encoding='utf-8')"
   ]
  },
  {
   "cell_type": "code",
   "execution_count": 4,
   "id": "bb630ef2-3705-4f13-a2b5-c0303c627217",
   "metadata": {},
   "outputs": [],
   "source": [
    "txt=f.read()"
   ]
  },
  {
   "cell_type": "code",
   "execution_count": 5,
   "id": "7f405321-1220-455e-bd34-01f494771195",
   "metadata": {},
   "outputs": [],
   "source": [
    "txt=\"hello world! this is a simple character level model using pytorch.\""
   ]
  },
  {
   "cell_type": "code",
   "execution_count": 6,
   "id": "dfbfb08f-2d78-4243-aa8f-c9592ce195be",
   "metadata": {},
   "outputs": [],
   "source": [
    "char=set(txt)"
   ]
  },
  {
   "cell_type": "code",
   "execution_count": 7,
   "id": "8a50734f-acac-43ce-86a4-d899bdcc7422",
   "metadata": {},
   "outputs": [],
   "source": [
    "chars=list(sorted(char))"
   ]
  },
  {
   "cell_type": "code",
   "execution_count": 8,
   "id": "68449da8-1902-4b5c-8098-58a95a7b5958",
   "metadata": {},
   "outputs": [],
   "source": [
    "vectortxt=txt\n"
   ]
  },
  {
   "cell_type": "code",
   "execution_count": 9,
   "id": "a48a4409-cfea-44e8-8f16-15582ecd923d",
   "metadata": {},
   "outputs": [
    {
     "data": {
      "text/plain": [
       "17"
      ]
     },
     "execution_count": 9,
     "metadata": {},
     "output_type": "execute_result"
    }
   ],
   "source": [
    "chars.index('t')"
   ]
  },
  {
   "cell_type": "code",
   "execution_count": 10,
   "id": "758b3580-8c0e-4c3e-ab03-00d801c8d986",
   "metadata": {},
   "outputs": [],
   "source": [
    "def chartovec(s,lst):\n",
    "    tmp=[]\n",
    "    for i in range(0,len(s)):\n",
    "        tmp.append(lst.index(s[i]))\n",
    "    return tmp\n",
    "    "
   ]
  },
  {
   "cell_type": "code",
   "execution_count": 11,
   "id": "558c454c-ac26-4865-9c06-f78c349dc661",
   "metadata": {},
   "outputs": [],
   "source": [
    "finaltext=chartovec(vectortxt,chars)"
   ]
  },
  {
   "cell_type": "code",
   "execution_count": 12,
   "id": "053d22d8-bb85-4cf7-801a-77fc8ef543db",
   "metadata": {},
   "outputs": [],
   "source": [
    "X=[]\n",
    "Y=[]\n",
    "seq=6"
   ]
  },
  {
   "cell_type": "code",
   "execution_count": 13,
   "id": "6ace80c9-ddc7-424b-9eba-a31f1c69cec9",
   "metadata": {},
   "outputs": [],
   "source": [
    "def createseq(txt,window):\n",
    "    data=[]\n",
    "    label=[]\n",
    "    for i in range(0,len(txt)-window-1):\n",
    "        data.append(txt[i:i+window])\n",
    "        label.append(txt[i+window])\n",
    "    return data,label"
   ]
  },
  {
   "cell_type": "code",
   "execution_count": 14,
   "id": "db15c4ac-36c5-4cd1-a86e-967787daa59a",
   "metadata": {},
   "outputs": [],
   "source": [
    "X,Y=createseq(finaltext,seq)"
   ]
  },
  {
   "cell_type": "code",
   "execution_count": 15,
   "id": "8ecbf264-618b-494c-98de-49864fba8263",
   "metadata": {},
   "outputs": [],
   "source": [
    "class CharLevelNN(nn.Module):\n",
    "    def __init__(self, window,vocab_size):\n",
    "        super(CharLevelNN, self).__init__()\n",
    "        self.fc1 = nn.Linear(window, 20)\n",
    "        self.fc2=nn.Linear(20,500)\n",
    "        self.fc3 = nn.Linear(500, vocab_size)\n",
    "    \n",
    "    def forward(self, x):\n",
    "        #x = self.embedding(x).view(x.size(0), -1)  # Flatten\n",
    "        x = torch.relu(self.fc1(x))\n",
    "        x = self.fc2(x)\n",
    "        x=torch.relu(x)\n",
    "        x=self.fc3(x)\n",
    "        return x\n"
   ]
  },
  {
   "cell_type": "code",
   "execution_count": 16,
   "id": "12bd5376-d5e9-4e41-9430-5fae73c938aa",
   "metadata": {},
   "outputs": [],
   "source": [
    "vocab_size=len(chars)"
   ]
  },
  {
   "cell_type": "code",
   "execution_count": 17,
   "id": "5252f9b9-a586-4588-849f-d33821af726d",
   "metadata": {},
   "outputs": [
    {
     "data": {
      "text/plain": [
       "22"
      ]
     },
     "execution_count": 17,
     "metadata": {},
     "output_type": "execute_result"
    }
   ],
   "source": [
    "vocab_size"
   ]
  },
  {
   "cell_type": "code",
   "execution_count": 18,
   "id": "9135e2cf-469b-40cb-919d-a2e3561d1ee6",
   "metadata": {},
   "outputs": [],
   "source": [
    "model = CharLevelNN(seq,vocab_size)\n",
    "criterion = nn.CrossEntropyLoss()\n",
    "optimizer = optim.Adam(model.parameters(), lr=0.001)"
   ]
  },
  {
   "cell_type": "code",
   "execution_count": 19,
   "id": "6a8df730-429d-4aea-a154-8f7e588e9661",
   "metadata": {},
   "outputs": [],
   "source": [
    "X=torch.FloatTensor(X)"
   ]
  },
  {
   "cell_type": "code",
   "execution_count": 20,
   "id": "96d50715-99e7-4a99-9f92-5e7d4bb6bd11",
   "metadata": {},
   "outputs": [],
   "source": [
    "Y=torch.LongTensor(Y)"
   ]
  },
  {
   "cell_type": "code",
   "execution_count": 21,
   "id": "5eac7fc3-a9cc-42ea-a863-b1f9cf0aebe6",
   "metadata": {},
   "outputs": [
    {
     "data": {
      "text/plain": [
       "torch.Tensor"
      ]
     },
     "execution_count": 21,
     "metadata": {},
     "output_type": "execute_result"
    }
   ],
   "source": [
    "type(X)"
   ]
  },
  {
   "cell_type": "code",
   "execution_count": null,
   "id": "bc7e908e-797b-442f-8250-dee6bbccf7c2",
   "metadata": {},
   "outputs": [],
   "source": []
  },
  {
   "cell_type": "code",
   "execution_count": 22,
   "id": "1f5c66a4-c575-4fb8-97c2-ea92d11952b4",
   "metadata": {},
   "outputs": [
    {
     "name": "stdout",
     "output_type": "stream",
     "text": [
      "Epoch 0, Loss: 3.3948\n",
      "Epoch 1, Loss: 3.0383\n",
      "Epoch 2, Loss: 2.7827\n",
      "Epoch 3, Loss: 2.5957\n",
      "Epoch 4, Loss: 2.4619\n",
      "Epoch 5, Loss: 2.3666\n",
      "Epoch 6, Loss: 2.2896\n",
      "Epoch 7, Loss: 2.2126\n",
      "Epoch 8, Loss: 2.1299\n",
      "Epoch 9, Loss: 2.0462\n",
      "Epoch 10, Loss: 1.9676\n",
      "Epoch 11, Loss: 1.8959\n",
      "Epoch 12, Loss: 1.8294\n",
      "Epoch 13, Loss: 1.7656\n",
      "Epoch 14, Loss: 1.7030\n",
      "Epoch 15, Loss: 1.6417\n",
      "Epoch 16, Loss: 1.5824\n",
      "Epoch 17, Loss: 1.5258\n",
      "Epoch 18, Loss: 1.4719\n",
      "Epoch 19, Loss: 1.4193\n",
      "Epoch 20, Loss: 1.3674\n",
      "Epoch 21, Loss: 1.3163\n",
      "Epoch 22, Loss: 1.2662\n",
      "Epoch 23, Loss: 1.2181\n",
      "Epoch 24, Loss: 1.1727\n",
      "Epoch 25, Loss: 1.1301\n",
      "Epoch 26, Loss: 1.0897\n",
      "Epoch 27, Loss: 1.0507\n",
      "Epoch 28, Loss: 1.0128\n",
      "Epoch 29, Loss: 0.9752\n",
      "Epoch 30, Loss: 0.9381\n",
      "Epoch 31, Loss: 0.9016\n",
      "Epoch 32, Loss: 0.8658\n",
      "Epoch 33, Loss: 0.8311\n",
      "Epoch 34, Loss: 0.7978\n",
      "Epoch 35, Loss: 0.7657\n",
      "Epoch 36, Loss: 0.7348\n",
      "Epoch 37, Loss: 0.7048\n",
      "Epoch 38, Loss: 0.6757\n",
      "Epoch 39, Loss: 0.6475\n",
      "Epoch 40, Loss: 0.6203\n",
      "Epoch 41, Loss: 0.5942\n",
      "Epoch 42, Loss: 0.5691\n",
      "Epoch 43, Loss: 0.5448\n",
      "Epoch 44, Loss: 0.5214\n",
      "Epoch 45, Loss: 0.4989\n",
      "Epoch 46, Loss: 0.4774\n",
      "Epoch 47, Loss: 0.4568\n",
      "Epoch 48, Loss: 0.4369\n",
      "Epoch 49, Loss: 0.4178\n",
      "Epoch 50, Loss: 0.3996\n",
      "Epoch 51, Loss: 0.3822\n",
      "Epoch 52, Loss: 0.3656\n",
      "Epoch 53, Loss: 0.3499\n",
      "Epoch 54, Loss: 0.3348\n",
      "Epoch 55, Loss: 0.3204\n",
      "Epoch 56, Loss: 0.3066\n",
      "Epoch 57, Loss: 0.2936\n",
      "Epoch 58, Loss: 0.2811\n",
      "Epoch 59, Loss: 0.2692\n",
      "Epoch 60, Loss: 0.2580\n",
      "Epoch 61, Loss: 0.2473\n",
      "Epoch 62, Loss: 0.2371\n",
      "Epoch 63, Loss: 0.2273\n",
      "Epoch 64, Loss: 0.2181\n",
      "Epoch 65, Loss: 0.2093\n",
      "Epoch 66, Loss: 0.2009\n",
      "Epoch 67, Loss: 0.1929\n",
      "Epoch 68, Loss: 0.1853\n",
      "Epoch 69, Loss: 0.1780\n",
      "Epoch 70, Loss: 0.1711\n",
      "Epoch 71, Loss: 0.1645\n",
      "Epoch 72, Loss: 0.1582\n",
      "Epoch 73, Loss: 0.1523\n",
      "Epoch 74, Loss: 0.1466\n",
      "Epoch 75, Loss: 0.1412\n",
      "Epoch 76, Loss: 0.1361\n",
      "Epoch 77, Loss: 0.1312\n",
      "Epoch 78, Loss: 0.1265\n",
      "Epoch 79, Loss: 0.1221\n",
      "Epoch 80, Loss: 0.1178\n",
      "Epoch 81, Loss: 0.1138\n",
      "Epoch 82, Loss: 0.1099\n",
      "Epoch 83, Loss: 0.1062\n",
      "Epoch 84, Loss: 0.1027\n",
      "Epoch 85, Loss: 0.0994\n",
      "Epoch 86, Loss: 0.0962\n",
      "Epoch 87, Loss: 0.0931\n",
      "Epoch 88, Loss: 0.0902\n",
      "Epoch 89, Loss: 0.0875\n",
      "Epoch 90, Loss: 0.0848\n",
      "Epoch 91, Loss: 0.0823\n",
      "Epoch 92, Loss: 0.0799\n",
      "Epoch 93, Loss: 0.0776\n",
      "Epoch 94, Loss: 0.0754\n",
      "Epoch 95, Loss: 0.0732\n",
      "Epoch 96, Loss: 0.0712\n",
      "Epoch 97, Loss: 0.0692\n",
      "Epoch 98, Loss: 0.0673\n",
      "Epoch 99, Loss: 0.0655\n",
      "Epoch 100, Loss: 0.0638\n",
      "Epoch 101, Loss: 0.0621\n",
      "Epoch 102, Loss: 0.0605\n",
      "Epoch 103, Loss: 0.0590\n",
      "Epoch 104, Loss: 0.0575\n",
      "Epoch 105, Loss: 0.0561\n",
      "Epoch 106, Loss: 0.0547\n",
      "Epoch 107, Loss: 0.0534\n",
      "Epoch 108, Loss: 0.0521\n",
      "Epoch 109, Loss: 0.0509\n",
      "Epoch 110, Loss: 0.0497\n",
      "Epoch 111, Loss: 0.0485\n",
      "Epoch 112, Loss: 0.0474\n",
      "Epoch 113, Loss: 0.0464\n",
      "Epoch 114, Loss: 0.0453\n",
      "Epoch 115, Loss: 0.0444\n",
      "Epoch 116, Loss: 0.0434\n",
      "Epoch 117, Loss: 0.0425\n",
      "Epoch 118, Loss: 0.0416\n",
      "Epoch 119, Loss: 0.0407\n",
      "Epoch 120, Loss: 0.0398\n",
      "Epoch 121, Loss: 0.0390\n",
      "Epoch 122, Loss: 0.0382\n",
      "Epoch 123, Loss: 0.0375\n",
      "Epoch 124, Loss: 0.0367\n",
      "Epoch 125, Loss: 0.0360\n",
      "Epoch 126, Loss: 0.0353\n",
      "Epoch 127, Loss: 0.0346\n",
      "Epoch 128, Loss: 0.0340\n",
      "Epoch 129, Loss: 0.0333\n",
      "Epoch 130, Loss: 0.0327\n",
      "Epoch 131, Loss: 0.0321\n",
      "Epoch 132, Loss: 0.0315\n",
      "Epoch 133, Loss: 0.0310\n",
      "Epoch 134, Loss: 0.0304\n",
      "Epoch 135, Loss: 0.0299\n",
      "Epoch 136, Loss: 0.0294\n",
      "Epoch 137, Loss: 0.0289\n",
      "Epoch 138, Loss: 0.0284\n",
      "Epoch 139, Loss: 0.0279\n",
      "Epoch 140, Loss: 0.0274\n",
      "Epoch 141, Loss: 0.0269\n",
      "Epoch 142, Loss: 0.0265\n",
      "Epoch 143, Loss: 0.0261\n",
      "Epoch 144, Loss: 0.0256\n",
      "Epoch 145, Loss: 0.0252\n",
      "Epoch 146, Loss: 0.0248\n",
      "Epoch 147, Loss: 0.0244\n",
      "Epoch 148, Loss: 0.0240\n",
      "Epoch 149, Loss: 0.0237\n",
      "Epoch 150, Loss: 0.0233\n",
      "Epoch 151, Loss: 0.0229\n",
      "Epoch 152, Loss: 0.0226\n",
      "Epoch 153, Loss: 0.0223\n",
      "Epoch 154, Loss: 0.0219\n",
      "Epoch 155, Loss: 0.0216\n",
      "Epoch 156, Loss: 0.0213\n",
      "Epoch 157, Loss: 0.0210\n",
      "Epoch 158, Loss: 0.0207\n",
      "Epoch 159, Loss: 0.0204\n",
      "Epoch 160, Loss: 0.0201\n",
      "Epoch 161, Loss: 0.0198\n",
      "Epoch 162, Loss: 0.0195\n",
      "Epoch 163, Loss: 0.0192\n",
      "Epoch 164, Loss: 0.0190\n",
      "Epoch 165, Loss: 0.0187\n",
      "Epoch 166, Loss: 0.0185\n",
      "Epoch 167, Loss: 0.0182\n",
      "Epoch 168, Loss: 0.0180\n",
      "Epoch 169, Loss: 0.0177\n",
      "Epoch 170, Loss: 0.0175\n",
      "Epoch 171, Loss: 0.0173\n",
      "Epoch 172, Loss: 0.0170\n",
      "Epoch 173, Loss: 0.0168\n",
      "Epoch 174, Loss: 0.0166\n",
      "Epoch 175, Loss: 0.0164\n",
      "Epoch 176, Loss: 0.0162\n",
      "Epoch 177, Loss: 0.0160\n",
      "Epoch 178, Loss: 0.0158\n",
      "Epoch 179, Loss: 0.0156\n",
      "Epoch 180, Loss: 0.0154\n",
      "Epoch 181, Loss: 0.0152\n",
      "Epoch 182, Loss: 0.0150\n",
      "Epoch 183, Loss: 0.0148\n",
      "Epoch 184, Loss: 0.0146\n",
      "Epoch 185, Loss: 0.0145\n",
      "Epoch 186, Loss: 0.0143\n",
      "Epoch 187, Loss: 0.0141\n",
      "Epoch 188, Loss: 0.0140\n",
      "Epoch 189, Loss: 0.0138\n",
      "Epoch 190, Loss: 0.0136\n",
      "Epoch 191, Loss: 0.0135\n",
      "Epoch 192, Loss: 0.0133\n",
      "Epoch 193, Loss: 0.0132\n",
      "Epoch 194, Loss: 0.0130\n",
      "Epoch 195, Loss: 0.0129\n",
      "Epoch 196, Loss: 0.0127\n",
      "Epoch 197, Loss: 0.0126\n",
      "Epoch 198, Loss: 0.0124\n",
      "Epoch 199, Loss: 0.0123\n"
     ]
    }
   ],
   "source": [
    "for epoch in range(200):\n",
    "    optimizer.zero_grad()\n",
    "    output = model(X)\n",
    "    loss = criterion(output, Y)\n",
    "    loss.backward()\n",
    "    optimizer.step()\n",
    "    \n",
    "    print(f'Epoch {epoch}, Loss: {loss.item():.4f}')"
   ]
  },
  {
   "cell_type": "code",
   "execution_count": 23,
   "id": "ace3213e-187f-477c-9806-2347c4fc8a92",
   "metadata": {},
   "outputs": [],
   "source": [
    "generated=\"hello \""
   ]
  },
  {
   "cell_type": "code",
   "execution_count": 24,
   "id": "6a376fc3-4279-4555-9ff1-f6b4f463bce2",
   "metadata": {},
   "outputs": [],
   "source": [
    "def getoutput(txt,num,lst,final):\n",
    "    if num==0:\n",
    "        return final\n",
    "    vectxt=chartovec(txt,lst)\n",
    "    vectxt=torch.FloatTensor(vectxt)\n",
    "    \n",
    "    out=model(vectxt)\n",
    "    val=torch.argmax(out,dim=0).item()\n",
    "    #print(txt)\n",
    "    final=final+lst[val]\n",
    "    txt=txt+lst[val]\n",
    "    return getoutput(txt[1:],num-1,lst,final)\n",
    "    \n",
    "    \n",
    "    "
   ]
  },
  {
   "cell_type": "code",
   "execution_count": 25,
   "id": "f9db2f15-d04e-4790-b462-c329ff9be35b",
   "metadata": {},
   "outputs": [
    {
     "name": "stdout",
     "output_type": "stream",
     "text": [
      "hello world! this is a simple character level model using pytorchh psing pytorchh psing pytorchh psing pytorchh psing pytorchh psing pytorchh psing pytorchh psing pytorchh psing pytorchh psing pytorchh psing pytorchh psing pytorchh psing pytorchh psing pytorchh psing pytorchh psing pytorchh psing pytorchh psing pytorchh psing pytorchh psing pytorchh psing pytorchh psing pytorchh psing pytorchh psing pytorchh psing pytorchh psing pytorchh psing pytorchh psing pytorchh psing pytorchh psing pytorchh psing pytorchh psing pytorchh psing pytorchh psing pytorchh psing pytorchh psing pytorchh psing pytorchh psing pytorchh psing pytorchh psing pytorchh psing pytorchh psing pytorchh psing pytorchh psing pyt\n"
     ]
    }
   ],
   "source": [
    "print(getoutput(\"hello \",700,chars,generated))"
   ]
  },
  {
   "cell_type": "code",
   "execution_count": null,
   "id": "1906d4a3-d061-454b-b634-f7de53fa9512",
   "metadata": {},
   "outputs": [],
   "source": []
  },
  {
   "cell_type": "code",
   "execution_count": null,
   "id": "c73c9800-445f-4a4c-bc96-3335a7f507c9",
   "metadata": {},
   "outputs": [],
   "source": []
  }
 ],
 "metadata": {
  "kernelspec": {
   "display_name": "Python 3 (ipykernel)",
   "language": "python",
   "name": "python3"
  },
  "language_info": {
   "codemirror_mode": {
    "name": "ipython",
    "version": 3
   },
   "file_extension": ".py",
   "mimetype": "text/x-python",
   "name": "python",
   "nbconvert_exporter": "python",
   "pygments_lexer": "ipython3",
   "version": "3.11.7"
  }
 },
 "nbformat": 4,
 "nbformat_minor": 5
}
